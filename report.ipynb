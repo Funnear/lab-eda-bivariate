{
 "cells": [
  {
   "cell_type": "code",
   "execution_count": 1,
   "metadata": {},
   "outputs": [],
   "source": [
    "import polars as pl"
   ]
  },
  {
   "cell_type": "code",
   "execution_count": 3,
   "metadata": {},
   "outputs": [
    {
     "data": {
      "text/html": [
       "<div><style>\n",
       ".dataframe > thead > tr,\n",
       ".dataframe > tbody > tr {\n",
       "  text-align: right;\n",
       "  white-space: pre-wrap;\n",
       "}\n",
       "</style>\n",
       "<small>shape: (5, 9)</small><table border=\"1\" class=\"dataframe\"><thead><tr><th>uid</th><th>asin</th><th>title</th><th>stars</th><th>reviews</th><th>price</th><th>isBestSeller</th><th>boughtInLastMonth</th><th>category</th></tr><tr><td>i64</td><td>str</td><td>str</td><td>f64</td><td>i64</td><td>f64</td><td>bool</td><td>i64</td><td>str</td></tr></thead><tbody><tr><td>1</td><td>&quot;B09B96TG33&quot;</td><td>&quot;Echo Dot (5th generation, 2022…</td><td>4.7</td><td>15308</td><td>21.99</td><td>false</td><td>0</td><td>&quot;Hi-Fi Speakers&quot;</td></tr><tr><td>2</td><td>&quot;B01HTH3C8S&quot;</td><td>&quot;Anker Soundcore mini, Super-Po…</td><td>4.7</td><td>98099</td><td>23.99</td><td>true</td><td>0</td><td>&quot;Hi-Fi Speakers&quot;</td></tr><tr><td>3</td><td>&quot;B09B8YWXDF&quot;</td><td>&quot;Echo Dot (5th generation, 2022…</td><td>4.7</td><td>15308</td><td>21.99</td><td>false</td><td>0</td><td>&quot;Hi-Fi Speakers&quot;</td></tr><tr><td>4</td><td>&quot;B09B8T5VGV&quot;</td><td>&quot;Echo Dot with clock (5th gener…</td><td>4.7</td><td>7205</td><td>31.99</td><td>false</td><td>0</td><td>&quot;Hi-Fi Speakers&quot;</td></tr><tr><td>5</td><td>&quot;B09WX6QD65&quot;</td><td>&quot;Introducing Echo Pop | Full so…</td><td>4.6</td><td>1881</td><td>17.99</td><td>false</td><td>0</td><td>&quot;Hi-Fi Speakers&quot;</td></tr></tbody></table></div>"
      ],
      "text/plain": [
       "shape: (5, 9)\n",
       "┌─────┬────────────┬────────────────┬───────┬───┬───────┬──────────────┬────────────────┬──────────┐\n",
       "│ uid ┆ asin       ┆ title          ┆ stars ┆ … ┆ price ┆ isBestSeller ┆ boughtInLastMo ┆ category │\n",
       "│ --- ┆ ---        ┆ ---            ┆ ---   ┆   ┆ ---   ┆ ---          ┆ nth            ┆ ---      │\n",
       "│ i64 ┆ str        ┆ str            ┆ f64   ┆   ┆ f64   ┆ bool         ┆ ---            ┆ str      │\n",
       "│     ┆            ┆                ┆       ┆   ┆       ┆              ┆ i64            ┆          │\n",
       "╞═════╪════════════╪════════════════╪═══════╪═══╪═══════╪══════════════╪════════════════╪══════════╡\n",
       "│ 1   ┆ B09B96TG33 ┆ Echo Dot (5th  ┆ 4.7   ┆ … ┆ 21.99 ┆ false        ┆ 0              ┆ Hi-Fi    │\n",
       "│     ┆            ┆ generation,    ┆       ┆   ┆       ┆              ┆                ┆ Speakers │\n",
       "│     ┆            ┆ 2022…          ┆       ┆   ┆       ┆              ┆                ┆          │\n",
       "│ 2   ┆ B01HTH3C8S ┆ Anker          ┆ 4.7   ┆ … ┆ 23.99 ┆ true         ┆ 0              ┆ Hi-Fi    │\n",
       "│     ┆            ┆ Soundcore      ┆       ┆   ┆       ┆              ┆                ┆ Speakers │\n",
       "│     ┆            ┆ mini,          ┆       ┆   ┆       ┆              ┆                ┆          │\n",
       "│     ┆            ┆ Super-Po…      ┆       ┆   ┆       ┆              ┆                ┆          │\n",
       "│ 3   ┆ B09B8YWXDF ┆ Echo Dot (5th  ┆ 4.7   ┆ … ┆ 21.99 ┆ false        ┆ 0              ┆ Hi-Fi    │\n",
       "│     ┆            ┆ generation,    ┆       ┆   ┆       ┆              ┆                ┆ Speakers │\n",
       "│     ┆            ┆ 2022…          ┆       ┆   ┆       ┆              ┆                ┆          │\n",
       "│ 4   ┆ B09B8T5VGV ┆ Echo Dot with  ┆ 4.7   ┆ … ┆ 31.99 ┆ false        ┆ 0              ┆ Hi-Fi    │\n",
       "│     ┆            ┆ clock (5th     ┆       ┆   ┆       ┆              ┆                ┆ Speakers │\n",
       "│     ┆            ┆ gener…         ┆       ┆   ┆       ┆              ┆                ┆          │\n",
       "│ 5   ┆ B09WX6QD65 ┆ Introducing    ┆ 4.6   ┆ … ┆ 17.99 ┆ false        ┆ 0              ┆ Hi-Fi    │\n",
       "│     ┆            ┆ Echo Pop |     ┆       ┆   ┆       ┆              ┆                ┆ Speakers │\n",
       "│     ┆            ┆ Full so…       ┆       ┆   ┆       ┆              ┆                ┆          │\n",
       "└─────┴────────────┴────────────────┴───────┴───┴───────┴──────────────┴────────────────┴──────────┘"
      ]
     },
     "execution_count": 3,
     "metadata": {},
     "output_type": "execute_result"
    }
   ],
   "source": [
    "data = pl.read_csv('amz_uk_price_prediction_dataset.csv')\n",
    "df = data.clone()\n",
    "df.head(5)"
   ]
  },
  {
   "cell_type": "code",
   "execution_count": null,
   "metadata": {},
   "outputs": [],
   "source": []
  }
 ],
 "metadata": {
  "kernelspec": {
   "display_name": "Jupyter (venv)",
   "language": "python",
   "name": "jpy"
  },
  "language_info": {
   "codemirror_mode": {
    "name": "ipython",
    "version": 3
   },
   "file_extension": ".py",
   "mimetype": "text/x-python",
   "name": "python",
   "nbconvert_exporter": "python",
   "pygments_lexer": "ipython3",
   "version": "3.13.2"
  }
 },
 "nbformat": 4,
 "nbformat_minor": 2
}
